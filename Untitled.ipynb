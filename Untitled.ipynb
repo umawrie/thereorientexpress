{
 "cells": [
  {
   "cell_type": "code",
   "execution_count": null,
   "id": "e24d5abd-52d4-47ce-86f5-837686d4d6cf",
   "metadata": {},
   "outputs": [],
   "source": [
    "import os\n",
    "import pandas as pd\n",
    "from datetime import datetime\n",
    "from spotipy import Spotify\n",
    "from spotipy.oauth2 import SpotifyClientCredentials\n",
    "from dotenv import load_dotenv"
   ]
  },
  {
   "cell_type": "code",
   "execution_count": 2,
   "id": "277b875e-78f0-403d-9252-f9f1a4422330",
   "metadata": {},
   "outputs": [
    {
     "ename": "NameError",
     "evalue": "name 'load_dotenv' is not defined",
     "output_type": "error",
     "traceback": [
      "\u001b[0;31m---------------------------------------------------------------------------\u001b[0m",
      "\u001b[0;31mNameError\u001b[0m                                 Traceback (most recent call last)",
      "Cell \u001b[0;32mIn[2], line 2\u001b[0m\n\u001b[1;32m      1\u001b[0m \u001b[38;5;66;03m# Load environment variables\u001b[39;00m\n\u001b[0;32m----> 2\u001b[0m \u001b[43mload_dotenv\u001b[49m()\n\u001b[1;32m      3\u001b[0m CLIENT_ID \u001b[38;5;241m=\u001b[39m os\u001b[38;5;241m.\u001b[39mgetenv(\u001b[38;5;124m'\u001b[39m\u001b[38;5;124mSPOTIFY_CLIENT_ID\u001b[39m\u001b[38;5;124m'\u001b[39m)\n\u001b[1;32m      4\u001b[0m CLIENT_SECRET \u001b[38;5;241m=\u001b[39m os\u001b[38;5;241m.\u001b[39mgetenv(\u001b[38;5;124m'\u001b[39m\u001b[38;5;124mSPOTIFY_CLIENT_SECRET\u001b[39m\u001b[38;5;124m'\u001b[39m)\n",
      "\u001b[0;31mNameError\u001b[0m: name 'load_dotenv' is not defined"
     ]
    }
   ],
   "source": [
    "# Load environment variables\n",
    "load_dotenv()\n",
    "CLIENT_ID = os.getenv('SPOTIFY_CLIENT_ID')\n",
    "CLIENT_SECRET = os.getenv('SPOTIFY_CLIENT_SECRET')"
   ]
  },
  {
   "cell_type": "code",
   "execution_count": null,
   "id": "e1f34114-8ab5-46d7-ad89-9bf670682224",
   "metadata": {},
   "outputs": [],
   "source": [
    "# Initialize Spotipy client\n",
    "sp = Spotify(auth_manager=SpotifyClientCredentials(\n",
    "    client_id=CLIENT_ID,\n",
    "    client_secret=CLIENT_SECRET\n",
    "))\n"
   ]
  },
  {
   "cell_type": "code",
   "execution_count": null,
   "id": "c1d85b8c-c9b1-4d8a-873c-bc145ca140ac",
   "metadata": {},
   "outputs": [],
   "source": [
    "# List of artist names and their Spotify IDs\n",
    "artist_ids = {\n",
    "    'Bruno Mars': '0du5cEVh5yTK9QJze8zA0C',\n",
    "    'Stray Kids': '2dIgFjalVxs4ThymZ67YCE',\n",
    "    'Charli XCX': '25uiPmTg16RbhZWAqwLBy5',\n",
    "    'Olivia Rodrigo': '1McMsnEElThX1knmY4oliG',\n",
    "    'TWICE': '7n2Ycct7Beij7Dj7meI4X0',\n",
    "    'Laufey': '7gW0r5CkdEUMm42w9XpyZO'\n",
    "}\n",
    "\n",
    "def fetch_artist_data():\n",
    "    \"\"\"Fetch followers and popularity for the listed artists.\"\"\"\n",
    "    data = []\n",
    "    timestamp = datetime.now().strftime('%Y-%m-%d %H:%M:%S')\n",
    "    \n",
    "    for artist_name, artist_id in artist_ids.items():\n",
    "        artist = sp.artist(artist_id)\n",
    "        data.append({\n",
    "            'timestamp': timestamp,\n",
    "            'artist_name': artist_name,\n",
    "            'followers': artist['followers']['total'],\n",
    "            'popularity': artist['popularity']\n",
    "        })\n",
    "    \n",
    "    return pd.DataFrame(data)"
   ]
  },
  {
   "cell_type": "code",
   "execution_count": 1,
   "id": "e93290e7-444b-4a53-912b-0e6b6b70596e",
   "metadata": {},
   "outputs": [
    {
     "ename": "NameError",
     "evalue": "name 'fetch_artist_data' is not defined",
     "output_type": "error",
     "traceback": [
      "\u001b[0;31m---------------------------------------------------------------------------\u001b[0m",
      "\u001b[0;31mNameError\u001b[0m                                 Traceback (most recent call last)",
      "Cell \u001b[0;32mIn[1], line 4\u001b[0m\n\u001b[1;32m      1\u001b[0m \u001b[38;5;66;03m# Fetch data and append to a CSV file\u001b[39;00m\n\u001b[1;32m      2\u001b[0m output_file \u001b[38;5;241m=\u001b[39m \u001b[38;5;124m'\u001b[39m\u001b[38;5;124m../data/trend_data/spotify_artist_trends.csv\u001b[39m\u001b[38;5;124m'\u001b[39m\n\u001b[0;32m----> 4\u001b[0m df \u001b[38;5;241m=\u001b[39m \u001b[43mfetch_artist_data\u001b[49m()\n\u001b[1;32m      5\u001b[0m \u001b[38;5;28;01mif\u001b[39;00m os\u001b[38;5;241m.\u001b[39mpath\u001b[38;5;241m.\u001b[39mexists(output_file):\n\u001b[1;32m      6\u001b[0m     df\u001b[38;5;241m.\u001b[39mto_csv(output_file, mode\u001b[38;5;241m=\u001b[39m\u001b[38;5;124m'\u001b[39m\u001b[38;5;124ma\u001b[39m\u001b[38;5;124m'\u001b[39m, header\u001b[38;5;241m=\u001b[39m\u001b[38;5;28;01mFalse\u001b[39;00m, index\u001b[38;5;241m=\u001b[39m\u001b[38;5;28;01mFalse\u001b[39;00m)\n",
      "\u001b[0;31mNameError\u001b[0m: name 'fetch_artist_data' is not defined"
     ]
    }
   ],
   "source": [
    "# Fetch data and append to a CSV file\n",
    "output_file = '../data/trend_data/spotify_artist_trends.csv'\n",
    "\n",
    "df = fetch_artist_data()\n",
    "if os.path.exists(output_file):\n",
    "    df.to_csv(output_file, mode='a', header=False, index=False)\n",
    "else:\n",
    "    df.to_csv(output_file, index=False)\n",
    "\n",
    "print(f\"Spotify trend data saved to '{output_file}'\")\n"
   ]
  },
  {
   "cell_type": "code",
   "execution_count": null,
   "id": "59ac0779-ce83-4296-960c-9e6c22418db3",
   "metadata": {},
   "outputs": [],
   "source": []
  }
 ],
 "metadata": {
  "kernelspec": {
   "display_name": "Python 3 (ipykernel)",
   "language": "python",
   "name": "python3"
  },
  "language_info": {
   "codemirror_mode": {
    "name": "ipython",
    "version": 3
   },
   "file_extension": ".py",
   "mimetype": "text/x-python",
   "name": "python",
   "nbconvert_exporter": "python",
   "pygments_lexer": "ipython3",
   "version": "3.12.1"
  }
 },
 "nbformat": 4,
 "nbformat_minor": 5
}
